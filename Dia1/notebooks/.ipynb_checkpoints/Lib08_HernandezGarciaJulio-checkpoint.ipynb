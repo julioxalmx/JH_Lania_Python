{
 "metadata": {
  "name": "",
  "signature": "sha256:b3e26afb0a5b85fdb9224c77dcfad62393914f3ee6dc7bf65d48abc1717d4a06"
 },
 "nbformat": 3,
 "nbformat_minor": 0,
 "worksheets": []
}