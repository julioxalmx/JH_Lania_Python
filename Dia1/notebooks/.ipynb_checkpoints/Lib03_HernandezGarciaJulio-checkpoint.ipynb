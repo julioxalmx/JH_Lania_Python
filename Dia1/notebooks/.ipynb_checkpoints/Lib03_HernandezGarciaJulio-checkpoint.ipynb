{
 "metadata": {
  "name": "",
  "signature": "sha256:34cf190926253112b37f880365ba4fc62276d5c07af9c6b73789748f7c63b7fd"
 },
 "nbformat": 3,
 "nbformat_minor": 0,
 "worksheets": [
  {
   "cells": [
    {
     "cell_type": "code",
     "collapsed": false,
     "input": [
      "def funcion_con_un_nombre_muy_largo_y_algo_boba(a, b):\n",
      "    \"\"\"\n",
      "    Este texto es el docstring de boba. \n",
      "    La funcion toma dos argumentos a y b\n",
      "    Regresa la suma de los argumentos a + b\n",
      "    No hay verificacion de errores\n",
      "    \"\"\"\n",
      "    return a+b"
     ],
     "language": "python",
     "metadata": {},
     "outputs": [],
     "prompt_number": 1
    },
    {
     "cell_type": "code",
     "collapsed": false,
     "input": [
      "# docstring o ayuda\n",
      "funcion_con_un_nombre_muy_largo_y_algo_boba?"
     ],
     "language": "python",
     "metadata": {},
     "outputs": [],
     "prompt_number": 2
    },
    {
     "cell_type": "code",
     "collapsed": false,
     "input": [
      "funcion_con_un_nombre_muy_largo_y_algo_boba??"
     ],
     "language": "python",
     "metadata": {},
     "outputs": [],
     "prompt_number": 3
    },
    {
     "cell_type": "code",
     "collapsed": false,
     "input": [
      "# presionando tab se activa la funcionalidad de automaticamente completar el nombre\n",
      "funcion_con_un_nombre_muy_largo_y_algo_boba"
     ],
     "language": "python",
     "metadata": {},
     "outputs": [
      {
       "metadata": {},
       "output_type": "pyout",
       "prompt_number": 4,
       "text": [
        "<function __main__.funcion_con_un_nombre_muy_largo_y_algo_boba>"
       ]
      }
     ],
     "prompt_number": 4
    },
    {
     "cell_type": "code",
     "collapsed": false,
     "input": [
      "# shift-enter ejecuta\n",
      "funcion_con_un_nombre_muy_largo_y_algo_boba(5,6)"
     ],
     "language": "python",
     "metadata": {},
     "outputs": [
      {
       "metadata": {},
       "output_type": "pyout",
       "prompt_number": 5,
       "text": [
        "11"
       ]
      }
     ],
     "prompt_number": 5
    },
    {
     "cell_type": "code",
     "collapsed": false,
     "input": [
      "import.sys"
     ],
     "language": "python",
     "metadata": {},
     "outputs": [
      {
       "ename": "SyntaxError",
       "evalue": "invalid syntax (<ipython-input-6-51a63ef8894e>, line 1)",
       "output_type": "pyerr",
       "traceback": [
        "\u001b[0;36m  File \u001b[0;32m\"<ipython-input-6-51a63ef8894e>\"\u001b[0;36m, line \u001b[0;32m1\u001b[0m\n\u001b[0;31m    import.sys\u001b[0m\n\u001b[0m          ^\u001b[0m\n\u001b[0;31mSyntaxError\u001b[0m\u001b[0;31m:\u001b[0m invalid syntax\n"
       ]
      }
     ],
     "prompt_number": 6
    },
    {
     "cell_type": "code",
     "collapsed": false,
     "input": [
      "import sys"
     ],
     "language": "python",
     "metadata": {},
     "outputs": [],
     "prompt_number": 7
    },
    {
     "cell_type": "code",
     "collapsed": false,
     "input": [
      "sys.path."
     ],
     "language": "python",
     "metadata": {},
     "outputs": []
    },
    {
     "cell_type": "markdown",
     "metadata": {},
     "source": [
      "import sys // importa el m\u00f3dulo sys de python\n",
      "sys.path.<TAB> muestra el autocomopletado del m\u00f3dulo sys"
     ]
    }
   ],
   "metadata": {}
  }
 ]
}