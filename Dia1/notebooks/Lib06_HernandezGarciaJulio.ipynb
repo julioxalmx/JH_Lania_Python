{
 "metadata": {
  "name": "",
  "signature": "sha256:1a94e1b9db049e723428e90e6ec4321b22bbf9dc1b6f648939ad3de88bc811ff"
 },
 "nbformat": 3,
 "nbformat_minor": 0,
 "worksheets": [
  {
   "cells": [
    {
     "cell_type": "code",
     "collapsed": false,
     "input": [
      "filelist = !ls                     #read the current directory into variable\n",
      "for x,i in enumerate(filelist):\n",
      "    print '#',x, '--->', i"
     ],
     "language": "python",
     "metadata": {},
     "outputs": [
      {
       "output_type": "stream",
       "stream": "stdout",
       "text": [
        "# 0 ---> Lib00_Esenciales_IPython_Notebook.ipynb\n",
        "# 1 ---> Lib01_Esenciales_IPython_Notebook.ipynb\n",
        "# 2 ---> Lib02_Esenciales_IPython_Notebook.ipynb\n",
        "# 3 ---> Lib02_HernandezGarciaJulio.ipynb\n",
        "# 4 ---> Lib03_Esenciales_IPython_Notebook.ipynb\n",
        "# 5 ---> Lib03_HernandezGarciaJulio.ipynb\n",
        "# 6 ---> Lib04_Esenciales_IPython_Notebook.ipynb\n",
        "# 7 ---> Lib04_HernandezGarciaJulio.ipynb\n",
        "# 8 ---> Lib05_Esenciales_IPython_Notebook.ipynb\n",
        "# 9 ---> Lib05_HernandezGarciaJulio.ipynb\n",
        "# 10 ---> Lib06_Esenciales_IPython_Notebook.ipynb\n",
        "# 11 ---> Lib06_HernandezGarciaJulio.ipynb\n",
        "# 12 ---> Lib07_Esenciales_IPython_Notebook.ipynb\n",
        "# 13 ---> Lib08_Esenciales_IPython_Notebook.ipynb\n",
        "# 14 ---> Lib09_Esenciales_IPython_Notebook.ipynb\n",
        "# 15 ---> Lib10_Esenciales_IPython_Notebook.ipynb\n",
        "# 16 ---> Lib11_GIT01_RevisionControl_1aEtapa.ipynb\n",
        "# 17 ---> Lib12_GIT02_RevisionControl_2aEtapa.ipynb\n",
        "# 18 ---> Lib13_GIT03_RevisionControl_3aEtapa.ipynb\n",
        "# 19 ---> Lib14_GIT04_RevisionControl_4aEtapa.ipynb\n",
        "# 20 ---> Lib15_GIT05_RevisionControl_Aplicacion.ipynb\n",
        "# 21 ---> Untitled0.ipynb\n"
       ]
      }
     ],
     "prompt_number": 1
    },
    {
     "cell_type": "code",
     "collapsed": false,
     "input": [
      "#MAS"
     ],
     "language": "python",
     "metadata": {},
     "outputs": [],
     "prompt_number": 2
    },
    {
     "cell_type": "code",
     "collapsed": false,
     "input": [
      "from IPython.display import FileLink, FileLinks\n",
      "FileLinks('.')"
     ],
     "language": "python",
     "metadata": {},
     "outputs": [
      {
       "html": [
        "./<br>\n",
        "&nbsp;&nbsp;<a href='./Lib00_Esenciales_IPython_Notebook.ipynb' target='_blank'>Lib00_Esenciales_IPython_Notebook.ipynb</a><br>\n",
        "&nbsp;&nbsp;<a href='./Lib01_Esenciales_IPython_Notebook.ipynb' target='_blank'>Lib01_Esenciales_IPython_Notebook.ipynb</a><br>\n",
        "&nbsp;&nbsp;<a href='./Lib02_Esenciales_IPython_Notebook.ipynb' target='_blank'>Lib02_Esenciales_IPython_Notebook.ipynb</a><br>\n",
        "&nbsp;&nbsp;<a href='./Lib02_HernandezGarciaJulio.ipynb' target='_blank'>Lib02_HernandezGarciaJulio.ipynb</a><br>\n",
        "&nbsp;&nbsp;<a href='./Lib03_Esenciales_IPython_Notebook.ipynb' target='_blank'>Lib03_Esenciales_IPython_Notebook.ipynb</a><br>\n",
        "&nbsp;&nbsp;<a href='./Lib03_HernandezGarciaJulio.ipynb' target='_blank'>Lib03_HernandezGarciaJulio.ipynb</a><br>\n",
        "&nbsp;&nbsp;<a href='./Lib04_Esenciales_IPython_Notebook.ipynb' target='_blank'>Lib04_Esenciales_IPython_Notebook.ipynb</a><br>\n",
        "&nbsp;&nbsp;<a href='./Lib04_HernandezGarciaJulio.ipynb' target='_blank'>Lib04_HernandezGarciaJulio.ipynb</a><br>\n",
        "&nbsp;&nbsp;<a href='./Lib05_Esenciales_IPython_Notebook.ipynb' target='_blank'>Lib05_Esenciales_IPython_Notebook.ipynb</a><br>\n",
        "&nbsp;&nbsp;<a href='./Lib05_HernandezGarciaJulio.ipynb' target='_blank'>Lib05_HernandezGarciaJulio.ipynb</a><br>\n",
        "&nbsp;&nbsp;<a href='./Lib06_Esenciales_IPython_Notebook.ipynb' target='_blank'>Lib06_Esenciales_IPython_Notebook.ipynb</a><br>\n",
        "&nbsp;&nbsp;<a href='./Lib06_HernandezGarciaJulio.ipynb' target='_blank'>Lib06_HernandezGarciaJulio.ipynb</a><br>\n",
        "&nbsp;&nbsp;<a href='./Lib07_Esenciales_IPython_Notebook.ipynb' target='_blank'>Lib07_Esenciales_IPython_Notebook.ipynb</a><br>\n",
        "&nbsp;&nbsp;<a href='./Lib08_Esenciales_IPython_Notebook.ipynb' target='_blank'>Lib08_Esenciales_IPython_Notebook.ipynb</a><br>\n",
        "&nbsp;&nbsp;<a href='./Lib09_Esenciales_IPython_Notebook.ipynb' target='_blank'>Lib09_Esenciales_IPython_Notebook.ipynb</a><br>\n",
        "&nbsp;&nbsp;<a href='./Lib10_Esenciales_IPython_Notebook.ipynb' target='_blank'>Lib10_Esenciales_IPython_Notebook.ipynb</a><br>\n",
        "&nbsp;&nbsp;<a href='./Lib11_GIT01_RevisionControl_1aEtapa.ipynb' target='_blank'>Lib11_GIT01_RevisionControl_1aEtapa.ipynb</a><br>\n",
        "&nbsp;&nbsp;<a href='./Lib12_GIT02_RevisionControl_2aEtapa.ipynb' target='_blank'>Lib12_GIT02_RevisionControl_2aEtapa.ipynb</a><br>\n",
        "&nbsp;&nbsp;<a href='./Lib13_GIT03_RevisionControl_3aEtapa.ipynb' target='_blank'>Lib13_GIT03_RevisionControl_3aEtapa.ipynb</a><br>\n",
        "&nbsp;&nbsp;<a href='./Lib14_GIT04_RevisionControl_4aEtapa.ipynb' target='_blank'>Lib14_GIT04_RevisionControl_4aEtapa.ipynb</a><br>\n",
        "&nbsp;&nbsp;<a href='./Lib15_GIT05_RevisionControl_Aplicacion.ipynb' target='_blank'>Lib15_GIT05_RevisionControl_Aplicacion.ipynb</a><br>\n",
        "&nbsp;&nbsp;<a href='./Untitled0.ipynb' target='_blank'>Untitled0.ipynb</a><br>\n",
        "./.ipynb_checkpoints/<br>\n",
        "&nbsp;&nbsp;<a href='./.ipynb_checkpoints/Lib02_HernandezGarciaJulio-checkpoint.ipynb' target='_blank'>Lib02_HernandezGarciaJulio-checkpoint.ipynb</a><br>\n",
        "&nbsp;&nbsp;<a href='./.ipynb_checkpoints/Lib03_HernandezGarciaJulio-checkpoint.ipynb' target='_blank'>Lib03_HernandezGarciaJulio-checkpoint.ipynb</a><br>\n",
        "&nbsp;&nbsp;<a href='./.ipynb_checkpoints/Lib04_HernandezGarciaJulio-checkpoint.ipynb' target='_blank'>Lib04_HernandezGarciaJulio-checkpoint.ipynb</a><br>\n",
        "&nbsp;&nbsp;<a href='./.ipynb_checkpoints/Lib05_HernandezGarciaJulio-checkpoint.ipynb' target='_blank'>Lib05_HernandezGarciaJulio-checkpoint.ipynb</a><br>\n",
        "&nbsp;&nbsp;<a href='./.ipynb_checkpoints/Lib06_HernandezGarciaJulio-checkpoint.ipynb' target='_blank'>Lib06_HernandezGarciaJulio-checkpoint.ipynb</a><br>"
       ],
       "metadata": {},
       "output_type": "pyout",
       "prompt_number": 3,
       "text": [
        "./\n",
        "  Lib00_Esenciales_IPython_Notebook.ipynb\n",
        "  Lib01_Esenciales_IPython_Notebook.ipynb\n",
        "  Lib02_Esenciales_IPython_Notebook.ipynb\n",
        "  Lib02_HernandezGarciaJulio.ipynb\n",
        "  Lib03_Esenciales_IPython_Notebook.ipynb\n",
        "  Lib03_HernandezGarciaJulio.ipynb\n",
        "  Lib04_Esenciales_IPython_Notebook.ipynb\n",
        "  Lib04_HernandezGarciaJulio.ipynb\n",
        "  Lib05_Esenciales_IPython_Notebook.ipynb\n",
        "  Lib05_HernandezGarciaJulio.ipynb\n",
        "  Lib06_Esenciales_IPython_Notebook.ipynb\n",
        "  Lib06_HernandezGarciaJulio.ipynb\n",
        "  Lib07_Esenciales_IPython_Notebook.ipynb\n",
        "  Lib08_Esenciales_IPython_Notebook.ipynb\n",
        "  Lib09_Esenciales_IPython_Notebook.ipynb\n",
        "  Lib10_Esenciales_IPython_Notebook.ipynb\n",
        "  Lib11_GIT01_RevisionControl_1aEtapa.ipynb\n",
        "  Lib12_GIT02_RevisionControl_2aEtapa.ipynb\n",
        "  Lib13_GIT03_RevisionControl_3aEtapa.ipynb\n",
        "  Lib14_GIT04_RevisionControl_4aEtapa.ipynb\n",
        "  Lib15_GIT05_RevisionControl_Aplicacion.ipynb\n",
        "  Untitled0.ipynb\n",
        "./.ipynb_checkpoints/\n",
        "  Lib02_HernandezGarciaJulio-checkpoint.ipynb\n",
        "  Lib03_HernandezGarciaJulio-checkpoint.ipynb\n",
        "  Lib04_HernandezGarciaJulio-checkpoint.ipynb\n",
        "  Lib05_HernandezGarciaJulio-checkpoint.ipynb\n",
        "  Lib06_HernandezGarciaJulio-checkpoint.ipynb"
       ]
      }
     ],
     "prompt_number": 3
    },
    {
     "cell_type": "code",
     "collapsed": false,
     "input": [
      "FileLinks('./.ipynb_checkpoints/')"
     ],
     "language": "python",
     "metadata": {},
     "outputs": [
      {
       "html": [
        "./.ipynb_checkpoints/<br>\n",
        "&nbsp;&nbsp;<a href='./.ipynb_checkpoints/Lib02_HernandezGarciaJulio-checkpoint.ipynb' target='_blank'>Lib02_HernandezGarciaJulio-checkpoint.ipynb</a><br>\n",
        "&nbsp;&nbsp;<a href='./.ipynb_checkpoints/Lib03_HernandezGarciaJulio-checkpoint.ipynb' target='_blank'>Lib03_HernandezGarciaJulio-checkpoint.ipynb</a><br>\n",
        "&nbsp;&nbsp;<a href='./.ipynb_checkpoints/Lib04_HernandezGarciaJulio-checkpoint.ipynb' target='_blank'>Lib04_HernandezGarciaJulio-checkpoint.ipynb</a><br>\n",
        "&nbsp;&nbsp;<a href='./.ipynb_checkpoints/Lib05_HernandezGarciaJulio-checkpoint.ipynb' target='_blank'>Lib05_HernandezGarciaJulio-checkpoint.ipynb</a><br>\n",
        "&nbsp;&nbsp;<a href='./.ipynb_checkpoints/Lib06_HernandezGarciaJulio-checkpoint.ipynb' target='_blank'>Lib06_HernandezGarciaJulio-checkpoint.ipynb</a><br>"
       ],
       "metadata": {},
       "output_type": "pyout",
       "prompt_number": 4,
       "text": [
        "./.ipynb_checkpoints/\n",
        "  Lib02_HernandezGarciaJulio-checkpoint.ipynb\n",
        "  Lib03_HernandezGarciaJulio-checkpoint.ipynb\n",
        "  Lib04_HernandezGarciaJulio-checkpoint.ipynb\n",
        "  Lib05_HernandezGarciaJulio-checkpoint.ipynb\n",
        "  Lib06_HernandezGarciaJulio-checkpoint.ipynb"
       ]
      }
     ],
     "prompt_number": 4
    },
    {
     "cell_type": "code",
     "collapsed": false,
     "input": [
      "%load http://pastebin.com/raw.php?i=mGiV1FwY"
     ],
     "language": "python",
     "metadata": {},
     "outputs": [],
     "prompt_number": 5
    },
    {
     "cell_type": "code",
     "collapsed": false,
     "input": [
      "CustomPlot()\n",
      "font_size = 20\n",
      "figsize(11.5, 6)\n",
      "\n",
      "t = arange(0.0, 2.0, 0.01)\n",
      "s = sin(2*pi*t)\n",
      "plot(t, s)\n",
      "\n",
      "xlabel(r'time $(s)$', fontsize=font_size)\n",
      "ylabel('voltage $(mV)$', fontsize=font_size)\n",
      "title('Voltage', fontsize=font_size)\n",
      "grid(True)"
     ],
     "language": "python",
     "metadata": {},
     "outputs": []
    },
    {
     "cell_type": "code",
     "collapsed": false,
     "input": [
      "%pastebin?"
     ],
     "language": "python",
     "metadata": {},
     "outputs": [],
     "prompt_number": 6
    },
    {
     "cell_type": "code",
     "collapsed": false,
     "input": [
      "%pastebin \"grafica\" 0-10"
     ],
     "language": "python",
     "metadata": {},
     "outputs": [
      {
       "metadata": {},
       "output_type": "pyout",
       "prompt_number": 7,
       "text": [
        "u'https://gist.github.com/ec79893a446633012977'"
       ]
      }
     ],
     "prompt_number": 7
    },
    {
     "cell_type": "code",
     "collapsed": false,
     "input": [
      "%connect_info"
     ],
     "language": "python",
     "metadata": {},
     "outputs": [
      {
       "output_type": "stream",
       "stream": "stdout",
       "text": [
        "{\n",
        "  \"stdin_port\": 58054, \n",
        "  \"ip\": \"127.0.0.1\", \n",
        "  \"control_port\": 58055, \n",
        "  \"hb_port\": 58056, \n",
        "  \"signature_scheme\": \"hmac-sha256\", \n",
        "  \"key\": \"9d65a5fb-84bc-470f-8c60-d4ebd281781b\", \n",
        "  \"shell_port\": 58052, \n",
        "  \"transport\": \"tcp\", \n",
        "  \"iopub_port\": 58053\n",
        "}\n",
        "\n",
        "Paste the above JSON into a file, and connect with:\n",
        "    $> ipython <app> --existing <file>\n",
        "or, if you are local, you can connect with just:\n",
        "    $> ipython <app> --existing kernel-7dd058b8-18c3-438b-9b3c-3e7ef266a16e.json \n",
        "or even just:\n",
        "    $> ipython <app> --existing \n",
        "if this is the most recent IPython session you have started.\n"
       ]
      }
     ],
     "prompt_number": 8
    },
    {
     "cell_type": "code",
     "collapsed": false,
     "input": [
      "touch nombreArchivo.txt"
     ],
     "language": "python",
     "metadata": {},
     "outputs": [
      {
       "ename": "SyntaxError",
       "evalue": "invalid syntax (<ipython-input-14-cc0f640a6c5f>, line 1)",
       "output_type": "pyerr",
       "traceback": [
        "\u001b[0;36m  File \u001b[0;32m\"<ipython-input-14-cc0f640a6c5f>\"\u001b[0;36m, line \u001b[0;32m1\u001b[0m\n\u001b[0;31m    touch nombreArchivo.txt\u001b[0m\n\u001b[0m                      ^\u001b[0m\n\u001b[0;31mSyntaxError\u001b[0m\u001b[0;31m:\u001b[0m invalid syntax\n"
       ]
      }
     ],
     "prompt_number": 14
    },
    {
     "cell_type": "code",
     "collapsed": false,
     "input": [
      "FileLinks('./Lib07_Esenciales_IPython_Notebook.ipynb/')"
     ],
     "language": "python",
     "metadata": {},
     "outputs": [
      {
       "html": [],
       "metadata": {},
       "output_type": "pyout",
       "prompt_number": 16,
       "text": []
      }
     ],
     "prompt_number": 16
    },
    {
     "cell_type": "code",
     "collapsed": false,
     "input": [],
     "language": "python",
     "metadata": {},
     "outputs": []
    }
   ],
   "metadata": {}
  }
 ]
}