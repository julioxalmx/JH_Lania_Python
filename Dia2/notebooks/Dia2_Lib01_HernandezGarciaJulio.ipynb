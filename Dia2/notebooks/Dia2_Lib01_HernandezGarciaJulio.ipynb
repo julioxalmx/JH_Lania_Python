{
 "metadata": {
  "name": "",
  "signature": "sha256:7bd44e7c3d56c8081d967e5adc4ed34cc2e6b199090245ef3f090bafa0c45c19"
 },
 "nbformat": 3,
 "nbformat_minor": 0,
 "worksheets": [
  {
   "cells": [
    {
     "cell_type": "code",
     "collapsed": false,
     "input": [
      "# Esta iteraci\u00f3n imprime los numeros 2,4,6,8\n",
      "for i in 2,4,6,8:\n",
      "    print(i)"
     ],
     "language": "python",
     "metadata": {},
     "outputs": [
      {
       "output_type": "stream",
       "stream": "stdout",
       "text": [
        "2\n",
        "4\n",
        "6\n",
        "8\n"
       ]
      }
     ],
     "prompt_number": 11
    },
    {
     "cell_type": "code",
     "collapsed": false,
     "input": [
      "# Esta iteraci\u00f3n imprime los n\u00fameros en un rango de 1 al 10\n",
      "for i in range (1,10):\n",
      "    print(i)\n",
      "# Esta iteraci\u00f3n imprime los n\u00fameros en un rango de 2 a 10 con saltos de 2 posiciones\n",
      "for i in range(2,10,2):\n",
      "    print(i)"
     ],
     "language": "python",
     "metadata": {},
     "outputs": [
      {
       "output_type": "stream",
       "stream": "stdout",
       "text": [
        "1\n",
        "2\n",
        "3\n",
        "4\n",
        "5\n",
        "6\n",
        "7\n",
        "8\n",
        "9\n",
        "2\n",
        "4\n",
        "6\n",
        "8\n"
       ]
      }
     ],
     "prompt_number": 10
    },
    {
     "cell_type": "code",
     "collapsed": false,
     "input": [
      "# Este c\u00f3digo en la variable total suma los valores puestos en la iteraci\u00f3n 1 + 3 + 7 = 11 e imprime el valor\n",
      "total = 0\n",
      "for i in 1, 3, 7:\n",
      "    total = total + i\n",
      "print(total)"
     ],
     "language": "python",
     "metadata": {},
     "outputs": [
      {
       "output_type": "stream",
       "stream": "stdout",
       "text": [
        "11\n"
       ]
      }
     ],
     "prompt_number": 12
    },
    {
     "cell_type": "code",
     "collapsed": false,
     "input": [
      "# En una l\u00ednea la funcion sum suma los valores\n",
      "print(sum([1,3,7]))\n",
      "# \n",
      "print(sum(range(1,100)))"
     ],
     "language": "python",
     "metadata": {},
     "outputs": [
      {
       "output_type": "stream",
       "stream": "stdout",
       "text": [
        "11\n",
        "4950\n"
       ]
      }
     ],
     "prompt_number": 14
    },
    {
     "cell_type": "code",
     "collapsed": false,
     "input": [
      "# Se define la funci\u00f3n \"saluda_a\" pasando como par\u00e1metro una variable nombre\n",
      "def saluda_a(nombre):\n",
      "    print(\"Hola \" + nombre)\n",
      "\n",
      "saluda_a(\"Miranda\")\n",
      "saluda_a(\"Fede\")"
     ],
     "language": "python",
     "metadata": {},
     "outputs": [
      {
       "output_type": "stream",
       "stream": "stdout",
       "text": [
        "Hola Miranda\n",
        "Hola Fede\n"
       ]
      }
     ],
     "prompt_number": 15
    },
    {
     "cell_type": "code",
     "collapsed": false,
     "input": [
      "# Uso de sentencia if, valida si el angulo es mayor que 0 escribe ... y menor que cero escribe ...\n",
      "angulo = 5\n",
      "if angulo > 0:\n",
      "    print(\"Girando en sentido dextrogiro\")\n",
      "elif angulo < 0:\n",
      "    print(\"Girando en sentido levogiro\")\n",
      "else:\n",
      "    print(\"No girando\")"
     ],
     "language": "python",
     "metadata": {},
     "outputs": [
      {
       "output_type": "stream",
       "stream": "stdout",
       "text": [
        "Girando en sentido dextrogiro\n"
       ]
      }
     ],
     "prompt_number": 16
    },
    {
     "cell_type": "code",
     "collapsed": false,
     "input": [],
     "language": "python",
     "metadata": {},
     "outputs": []
    }
   ],
   "metadata": {}
  }
 ]
}