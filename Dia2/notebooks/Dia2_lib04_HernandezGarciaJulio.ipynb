{
 "metadata": {
  "name": "",
  "signature": "sha256:f2e975d3511053ee6418b8807a8db8c110fd7ca67f736ee8affcf79f33e09af3"
 },
 "nbformat": 3,
 "nbformat_minor": 0,
 "worksheets": [
  {
   "cells": [
    {
     "cell_type": "code",
     "collapsed": false,
     "input": [
      "f = open(\"/Users/juliohernandez/Documents/lania.ipython/Dia2/files/meses.txt\")\n",
      "print(f.read())"
     ],
     "language": "python",
     "metadata": {},
     "outputs": [
      {
       "output_type": "stream",
       "stream": "stdout",
       "text": [
        "Enero\n",
        "Febrero\n",
        "Marzo\n",
        "Abril\n",
        "Mayo\n",
        "Junio\n",
        "Julio\n",
        "Agosto\n",
        "Septiembre\n",
        "Octubre\n",
        "Noviembre\n",
        "Diciembre\n"
       ]
      }
     ],
     "prompt_number": 6
    },
    {
     "cell_type": "code",
     "collapsed": false,
     "input": [
      "# Instrucci\u00f3n while vaida que siguiente no sea \"\" e imprime, dentro del while se va asignando el valor\n",
      "# de siguiente = f.read(1) \n",
      "f = open(\"/Users/juliohernandez/Documents/lania.ipython/Dia2/files/meses.txt\")\n",
      "siguiente = f.read(1)\n",
      "while siguiente != \"\":\n",
      "    print(siguiente)\n",
      "    siguiente = f.read(1)"
     ],
     "language": "python",
     "metadata": {},
     "outputs": [
      {
       "output_type": "stream",
       "stream": "stdout",
       "text": [
        "E\n",
        "n\n",
        "e\n",
        "r\n",
        "o\n",
        "\n",
        "\n",
        "F\n",
        "e\n",
        "b\n",
        "r\n",
        "e\n",
        "r\n",
        "o\n",
        "\n",
        "\n",
        "M\n",
        "a\n",
        "r\n",
        "z\n",
        "o\n",
        "\n",
        "\n",
        "A\n",
        "b\n",
        "r\n",
        "i\n",
        "l\n",
        "\n",
        "\n",
        "M\n",
        "a\n",
        "y\n",
        "o\n",
        "\n",
        "\n",
        "J\n",
        "u\n",
        "n\n",
        "i\n",
        "o\n",
        "\n",
        "\n",
        "J\n",
        "u\n",
        "l\n",
        "i\n",
        "o\n",
        "\n",
        "\n",
        "A\n",
        "g\n",
        "o\n",
        "s\n",
        "t\n",
        "o\n",
        "\n",
        "\n",
        "S\n",
        "e\n",
        "p\n",
        "t\n",
        "i\n",
        "e\n",
        "m\n",
        "b\n",
        "r\n",
        "e\n",
        "\n",
        "\n",
        "O\n",
        "c\n",
        "t\n",
        "u\n",
        "b\n",
        "r\n",
        "e\n",
        "\n",
        "\n",
        "N\n",
        "o\n",
        "v\n",
        "i\n",
        "e\n",
        "m\n",
        "b\n",
        "r\n",
        "e\n",
        "\n",
        "\n",
        "D\n",
        "i\n",
        "c\n",
        "i\n",
        "e\n",
        "m\n",
        "b\n",
        "r\n",
        "e\n"
       ]
      }
     ],
     "prompt_number": 7
    },
    {
     "cell_type": "code",
     "collapsed": false,
     "input": [
      "# Instrucci\u00f3n while recorre el archivo mientras siguiente no sea \"\", a siguietne se le asignan \n",
      "# 2 posiciones en el r.read \n",
      "f = open(\"/Users/juliohernandez/Documents/lania.ipython/Dia2/files/meses.txt\")\n",
      "siguiente = f.read(2)\n",
      "while siguiente != \"\":\n",
      "    print(siguiente)\n",
      "    siguiente = f.read(2)"
     ],
     "language": "python",
     "metadata": {},
     "outputs": [
      {
       "output_type": "stream",
       "stream": "stdout",
       "text": [
        "En\n",
        "er\n",
        "o\n",
        "\n",
        "Fe\n",
        "br\n",
        "er\n",
        "o\n",
        "\n",
        "Ma\n",
        "rz\n",
        "o\n",
        "\n",
        "Ab\n",
        "ri\n",
        "l\n",
        "\n",
        "Ma\n",
        "yo\n",
        "\n",
        "J\n",
        "un\n",
        "io\n",
        "\n",
        "J\n",
        "ul\n",
        "io\n",
        "\n",
        "A\n",
        "go\n",
        "st\n",
        "o\n",
        "\n",
        "Se\n",
        "pt\n",
        "ie\n",
        "mb\n",
        "re\n",
        "\n",
        "O\n",
        "ct\n",
        "ub\n",
        "re\n",
        "\n",
        "N\n",
        "ov\n",
        "ie\n",
        "mb\n",
        "re\n",
        "\n",
        "D\n",
        "ic\n",
        "ie\n",
        "mb\n",
        "re\n"
       ]
      }
     ],
     "prompt_number": 9
    },
    {
     "cell_type": "code",
     "collapsed": false,
     "input": [
      "print(\"Quiero dos lineas!\\nEl caracter de linea nueva me permite hacerlo.\")"
     ],
     "language": "python",
     "metadata": {},
     "outputs": [
      {
       "output_type": "stream",
       "stream": "stdout",
       "text": [
        "Quiero dos lineas!\n",
        "El caracter de linea nueva me permite hacerlo.\n"
       ]
      }
     ],
     "prompt_number": 10
    },
    {
     "cell_type": "code",
     "collapsed": false,
     "input": [
      "f = open(\"/Users/juliohernandez/Documents/lania.ipython/Dia2/files/meses.txt\")\n",
      "siguiente = f.readline()\n",
      "while siguiente != \"\":\n",
      "    print(siguiente)\n",
      "    siguiente = f.readline()"
     ],
     "language": "python",
     "metadata": {},
     "outputs": [
      {
       "output_type": "stream",
       "stream": "stdout",
       "text": [
        "Enero\n",
        "\n",
        "Febrero\n",
        "\n",
        "Marzo\n",
        "\n",
        "Abril\n",
        "\n",
        "Mayo\n",
        "\n",
        "Junio\n",
        "\n",
        "Julio\n",
        "\n",
        "Agosto\n",
        "\n",
        "Septiembre\n",
        "\n",
        "Octubre\n",
        "\n",
        "Noviembre\n",
        "\n",
        "Diciembre\n"
       ]
      }
     ],
     "prompt_number": 12
    },
    {
     "cell_type": "code",
     "collapsed": false,
     "input": [
      "f = open(\"/Users/juliohernandez/Documents/lania.ipython/Dia2/files/meses.txt\")\n",
      "next = f.readline()\n",
      "while next != \"\":\n",
      "    next = next.strip()\n",
      "    print(next)\n",
      "    next = f.readline()"
     ],
     "language": "python",
     "metadata": {},
     "outputs": [
      {
       "output_type": "stream",
       "stream": "stdout",
       "text": [
        "Enero\n",
        "Febrero\n",
        "Marzo\n",
        "Abril\n",
        "Mayo\n",
        "Junio\n",
        "Julio\n",
        "Agosto\n",
        "Septiembre\n",
        "Octubre\n",
        "Noviembre\n",
        "Diciembre\n"
       ]
      }
     ],
     "prompt_number": 14
    },
    {
     "cell_type": "code",
     "collapsed": false,
     "input": [
      "f = open(\"/Users/juliohernandez/Documents/lania.ipython/Dia2/files/meses.txt\")\n",
      "next = f.readline()\n",
      "while next != \"\":\n",
      "    next = next.strip(\"\\n\")\n",
      "    print(next)\n",
      "    next = f.readline()"
     ],
     "language": "python",
     "metadata": {},
     "outputs": [
      {
       "output_type": "stream",
       "stream": "stdout",
       "text": [
        "Enero\n",
        "Febrero\n",
        "Marzo\n",
        "Abril\n",
        "Mayo\n",
        "Junio\n",
        "Julio\n",
        "Agosto\n",
        "Septiembre\n",
        "Octubre\n",
        "Noviembre\n",
        "Diciembre\n"
       ]
      }
     ],
     "prompt_number": 15
    },
    {
     "cell_type": "code",
     "collapsed": false,
     "input": [
      "f = open(\"/Users/juliohernandez/Documents/lania.ipython/Dia2/files/meses.txt\")\n",
      "print(f.readlines())"
     ],
     "language": "python",
     "metadata": {},
     "outputs": [
      {
       "output_type": "stream",
       "stream": "stdout",
       "text": [
        "['Enero\\n', 'Febrero\\n', 'Marzo\\n', 'Abril\\n', 'Mayo\\n', 'Junio\\n', 'Julio\\n', 'Agosto\\n', 'Septiembre\\n', 'Octubre\\n', 'Noviembre\\n', 'Diciembre']\n"
       ]
      }
     ],
     "prompt_number": 16
    },
    {
     "cell_type": "code",
     "collapsed": false,
     "input": [
      "f = open(\"/Users/juliohernandez/Documents/lania.ipython/Dia2/files/meses.txt\")\n",
      "for month in f.readlines():\n",
      "   print(\"Month \" + month.strip())"
     ],
     "language": "python",
     "metadata": {},
     "outputs": [
      {
       "output_type": "stream",
       "stream": "stdout",
       "text": [
        "Month Enero\n",
        "Month Febrero\n",
        "Month Marzo\n",
        "Month Abril\n",
        "Month Mayo\n",
        "Month Junio\n",
        "Month Julio\n",
        "Month Agosto\n",
        "Month Septiembre\n",
        "Month Octubre\n",
        "Month Noviembre\n",
        "Month Diciembre\n"
       ]
      }
     ],
     "prompt_number": 17
    },
    {
     "cell_type": "code",
     "collapsed": false,
     "input": [
      "f = open(\"/Users/juliohernandez/Documents/lania.ipython/Dia2/files/meses.txt\")\n",
      "for month in f:\n",
      "   print(\"Month \" + month.strip())"
     ],
     "language": "python",
     "metadata": {},
     "outputs": [
      {
       "output_type": "stream",
       "stream": "stdout",
       "text": [
        "Month Enero\n",
        "Month Febrero\n",
        "Month Marzo\n",
        "Month Abril\n",
        "Month Mayo\n",
        "Month Junio\n",
        "Month Julio\n",
        "Month Agosto\n",
        "Month Septiembre\n",
        "Month Octubre\n",
        "Month Noviembre\n",
        "Month Diciembre\n"
       ]
      }
     ],
     "prompt_number": 18
    },
    {
     "cell_type": "code",
     "collapsed": false,
     "input": [
      "f = open(\"/Users/juliohernandez/Documents/lania.ipython/Dia2/files/archivonuevogenial.txt\", \"w\")"
     ],
     "language": "python",
     "metadata": {},
     "outputs": [],
     "prompt_number": 19
    },
    {
     "cell_type": "code",
     "collapsed": false,
     "input": [
      "f = open(\"/Users/juliohernandez/Documents/lania.ipython/Dia2/files/archivonuevogenial.txt\", \"w\")\n",
      "f?"
     ],
     "language": "python",
     "metadata": {},
     "outputs": [],
     "prompt_number": 20
    },
    {
     "cell_type": "code",
     "collapsed": false,
     "input": [
      "f = open(\"/Users/juliohernandez/Documents/lania.ipython/Dia2/files/archivonuevogenial.txt\", \"w\")\n",
      "f.write(\"Hola Mundo JH\")\n",
      "f.close()"
     ],
     "language": "python",
     "metadata": {},
     "outputs": [],
     "prompt_number": 23
    },
    {
     "cell_type": "code",
     "collapsed": false,
     "input": [
      "f = open(\"/Users/juliohernandez/Documents/lania.ipython/Dia2/files/archivonuevogenial.txt\")\n",
      "print(f.read())"
     ],
     "language": "python",
     "metadata": {},
     "outputs": [
      {
       "output_type": "stream",
       "stream": "stdout",
       "text": [
        "Hola Mundo JH\n"
       ]
      }
     ],
     "prompt_number": 24
    },
    {
     "cell_type": "code",
     "collapsed": false,
     "input": [
      "lista = []\n",
      "f = open(\"/Users/juliohernandez/Documents/lania.ipython/Dia2/files/archivoHolaMundo.txt\")\n",
      "for lineas in f.readlines():\n",
      "    lista.append(lineas)\n",
      "    print(lineas.strip() + \" Saludos Desde Lania \")\n",
      "\n"
     ],
     "language": "python",
     "metadata": {},
     "outputs": [
      {
       "output_type": "stream",
       "stream": "stdout",
       "text": [
        "Hola Mundo 1 Saludos Desde Lania \n",
        "Hola Mundo 2 Saludos Desde Lania \n",
        "Hola Mundo 3 Saludos Desde Lania \n",
        "Hola Mundo 4 Saludos Desde Lania \n",
        "Hola Mundo 5 Saludos Desde Lania \n",
        "Hola Mundo 6 Saludos Desde Lania \n",
        "Hola Mundo 7 Saludos Desde Lania \n"
       ]
      }
     ],
     "prompt_number": 29
    },
    {
     "cell_type": "code",
     "collapsed": false,
     "input": [
      "f = open(\"/Users/juliohernandez/Documents/lania.ipython/Dia2/files/archivoHolaMundoNuevo.txt\",\"w\")\n",
      "for item in lista:\n",
      "    f.write(item)\n",
      "f.close()"
     ],
     "language": "python",
     "metadata": {},
     "outputs": [],
     "prompt_number": 32
    },
    {
     "cell_type": "code",
     "collapsed": false,
     "input": [
      "lista"
     ],
     "language": "python",
     "metadata": {},
     "outputs": [
      {
       "metadata": {},
       "output_type": "pyout",
       "prompt_number": 31,
       "text": [
        "['Hola Mundo 1\\n',\n",
        " 'Hola Mundo 2\\n',\n",
        " 'Hola Mundo 3\\n',\n",
        " 'Hola Mundo 4\\n',\n",
        " 'Hola Mundo 5\\n',\n",
        " 'Hola Mundo 6\\n',\n",
        " 'Hola Mundo 7']"
       ]
      }
     ],
     "prompt_number": 31
    },
    {
     "cell_type": "code",
     "collapsed": false,
     "input": [],
     "language": "python",
     "metadata": {},
     "outputs": []
    }
   ],
   "metadata": {}
  }
 ]
}