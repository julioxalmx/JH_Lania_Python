{
 "metadata": {
  "name": "",
  "signature": "sha256:cdf35d87f4dece4d28b08c9ac69906fa74de707b7f8538ac46bf3c7c2e1f1c44"
 },
 "nbformat": 3,
 "nbformat_minor": 0,
 "worksheets": [
  {
   "cells": [
    {
     "cell_type": "code",
     "collapsed": false,
     "input": [
      "lista_del_super = []\n",
      "\n",
      "lista_del_super.append(\"leche\")\n",
      "lista_del_super.append(\"queso\")\n",
      "lista_del_super.append(\"pan\")\n",
      "\n",
      "lista_del_super = [ \"leche\", \"queso\", \"pan\" ]\n",
      "\n",
      "lista_del_super.remove(\"leche\")\n",
      "\n",
      "for item in lista_del_super:\n",
      "    print(item)\n",
      "\n",
      "if \"leche\" in lista_del_super:\n",
      "    print(\"Mmmh! Que rico.\")\n",
      "\n",
      "if \"huevos\" not in lista_del_super:\n",
      "    print(\"No podemos tener eso!\")\n",
      "    lista_del_super.append(\"huevos\")\n",
      "\n",
      "for item in lista_del_super:\n",
      "    print(item)"
     ],
     "language": "python",
     "metadata": {},
     "outputs": [
      {
       "output_type": "stream",
       "stream": "stdout",
       "text": [
        "queso\n",
        "pan\n",
        "No podemos tener eso!\n",
        "queso\n",
        "pan\n",
        "huevos\n"
       ]
      }
     ],
     "prompt_number": 10
    },
    {
     "cell_type": "code",
     "collapsed": false,
     "input": [
      "from IPython.display import Image\n",
      "\n",
      "lista_plantas = []\n",
      "\n",
      "lista_plantas = [\"planta1\",\"planta2\",\"planta3\"]\n",
      "for item in lista_plantas:\n",
      "    print(item)\n",
      "lista_plantas.append(\"planta4\")\n",
      "\n",
      "if \"encinos\" not in lista_plantas:\n",
      "    print(\"No Existe Planta Encinos\")\n",
      "    lista_plantas.append(\"Encinos\")\n",
      "    \n",
      "planta1 = {\"nombre\":\"NombrePlanta1\",\"es_arbusto\":True,\"es_arbol\":False,\n",
      "           \"Imagen\":\"http://www.lania.edu.mx/images/stories/convocatoria2012-1.png\"}\n",
      "\n"
     ],
     "language": "python",
     "metadata": {},
     "outputs": [
      {
       "output_type": "stream",
       "stream": "stdout",
       "text": [
        "planta1\n",
        "planta2\n",
        "planta3\n",
        "No Existe Planta Encinos\n"
       ]
      }
     ],
     "prompt_number": 19
    },
    {
     "cell_type": "code",
     "collapsed": false,
     "input": [],
     "language": "python",
     "metadata": {},
     "outputs": []
    }
   ],
   "metadata": {}
  }
 ]
}