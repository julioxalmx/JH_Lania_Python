{
 "metadata": {
  "name": "",
  "signature": "sha256:6a347bb37fafa21e13ccba5ccd7d8d2227cbb241d56d951086a26a6a94b1b642"
 },
 "nbformat": 3,
 "nbformat_minor": 0,
 "worksheets": [
  {
   "cells": [
    {
     "cell_type": "code",
     "collapsed": false,
     "input": [
      "comidas = {}\n",
      "\n",
      "comidas[\"platano\"] = \"Un bocado amarillo exquisito!\"\n",
      "comidas[\"lodo\"]   = \"No muy rico. NO COMER!\"\n",
      "\n",
      "comidas\n",
      "\n",
      "comidas[\"platano\"]\n",
      "\n",
      "ingredientes = {}\n",
      "ingredientes[\"sandwich jlt\"] = [\"pan\", \"jitomate\", \"lechuga\", \"tocino\"]\n",
      "\n",
      "europa = []\n",
      "alemania = {\"nombre\": \"Alemania\", \"poblacion\": 81000000}\n",
      "europa.append(alemania)\n",
      "luxemburgo = {\"nombre\": \"Luxemburgo\", \"poblacion\": 512000}\n",
      "europa.append(luxemburgo)"
     ],
     "language": "python",
     "metadata": {},
     "outputs": [],
     "prompt_number": 10
    },
    {
     "cell_type": "code",
     "collapsed": false,
     "input": [],
     "language": "python",
     "metadata": {},
     "outputs": []
    }
   ],
   "metadata": {}
  }
 ]
}