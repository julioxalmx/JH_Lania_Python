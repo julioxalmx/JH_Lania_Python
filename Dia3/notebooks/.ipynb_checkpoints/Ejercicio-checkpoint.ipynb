{
 "metadata": {
  "name": "",
  "signature": "sha256:3ce0174d43759bec100e7ff683753ae8d0ff2e00869b9ebe5a27230d33e53c8d"
 },
 "nbformat": 3,
 "nbformat_minor": 0,
 "worksheets": [
  {
   "cells": [
    {
     "cell_type": "code",
     "collapsed": false,
     "input": [
      "import urllib\n",
      "import json\n",
      "\n",
      "#destino='./fotoPrueba.jpg'\n",
      "#destino='./fotoPrueba2.jpg'\n",
      "#destino='./fotoPrueba3.jpg'\n",
      "#destino='./fotoPruebaManuel.jpg'\n",
      "destino='./fotoPruebaLorena.jpg'\n",
      "\n",
      "\n",
      "#fighshare_id = '1233488'\n",
      "#fighshare_id = '1233478' \n",
      "#fighshare_id = '1233502'\n",
      "#fighshare_id = '1233505'\n",
      "fighshare_id = '1233503'\n",
      "\n",
      "\n",
      "figshare_url = 'http://api.figshare.com/v1/articles/%s' % fighshare_id"
     ],
     "language": "python",
     "metadata": {},
     "outputs": [],
     "prompt_number": 38
    },
    {
     "cell_type": "code",
     "collapsed": false,
     "input": [
      "respuesta_json = urllib.urlopen(figshare_url)"
     ],
     "language": "python",
     "metadata": {},
     "outputs": [],
     "prompt_number": 39
    },
    {
     "cell_type": "code",
     "collapsed": false,
     "input": [
      "informacion_articulo = json.load(respuesta_json)"
     ],
     "language": "python",
     "metadata": {},
     "outputs": [],
     "prompt_number": 40
    },
    {
     "cell_type": "code",
     "collapsed": false,
     "input": [
      "informacion_articulo"
     ],
     "language": "python",
     "metadata": {},
     "outputs": [
      {
       "metadata": {},
       "output_type": "pyout",
       "prompt_number": 41,
       "text": [
        "{u'count': 1,\n",
        " u'items': [{u'article_id': 1233503,\n",
        "   u'authors': [{u'first_name': u'Rivera',\n",
        "     u'full_name': u'Rivera Ruiz',\n",
        "     u'id': 656754,\n",
        "     u'last_name': u'Ruiz'}],\n",
        "   u'categories': [{u'id': 158, u'name': u'Biological Techniques'}],\n",
        "   u'defined_type': u'figure',\n",
        "   u'description': u'<p>Hoja a rayas. 8 Noviembre 2014. LANIA</p>',\n",
        "   u'description_nohtml': u'Hoja a rayas. 8 Noviembre 2014. LANIA',\n",
        "   u'doi': u'http://dx.doi.org/10.6084/m9.figshare.1233503',\n",
        "   u'downloads': 0,\n",
        "   u'figshare_url': u'http://figshare.com/articles/Hoja/1233503',\n",
        "   u'files': [{u'download_url': u'http://files.figshare.com/1784926/20141109_134334.jpg',\n",
        "     u'id': 1784926,\n",
        "     u'mime_type': u'image/jpeg',\n",
        "     u'name': u'20141109_134334.jpg',\n",
        "     u'size': u'920 KB',\n",
        "     u'thumb': u'http://previews.figshare.com/1784926/250_1784926.jpg'}],\n",
        "   u'links': [],\n",
        "   u'master_publisher_id': 0,\n",
        "   u'owner': {u'full_name': u'Rivera Ruiz', u'id': 656754},\n",
        "   u'published_date': u'21:22, Nov 08, 2014',\n",
        "   u'publisher_citation': u'',\n",
        "   u'publisher_doi': u'',\n",
        "   u'shares': 0,\n",
        "   u'status': u'Public',\n",
        "   u'tags': [{u'id': 334748, u'name': u' lania'}],\n",
        "   u'title': u'Hoja',\n",
        "   u'total_size': u'898.82 KB',\n",
        "   u'version': 1,\n",
        "   u'views': 2}]}"
       ]
      }
     ],
     "prompt_number": 41
    },
    {
     "cell_type": "code",
     "collapsed": false,
     "input": [
      "img_url_descarga = informacion_articulo['items'][0]['files'][0]['download_url']"
     ],
     "language": "python",
     "metadata": {},
     "outputs": [],
     "prompt_number": 42
    },
    {
     "cell_type": "code",
     "collapsed": false,
     "input": [
      "urllib.urlretrieve(img_url_descarga, destino)"
     ],
     "language": "python",
     "metadata": {},
     "outputs": [
      {
       "metadata": {},
       "output_type": "pyout",
       "prompt_number": 43,
       "text": [
        "('./fotoPruebaLorena.jpg', <httplib.HTTPMessage instance at 0x1049a9290>)"
       ]
      }
     ],
     "prompt_number": 43
    },
    {
     "cell_type": "code",
     "collapsed": false,
     "input": [
      "ls -lt ./"
     ],
     "language": "python",
     "metadata": {},
     "outputs": [
      {
       "output_type": "stream",
       "stream": "stdout",
       "text": [
        "total 10368\r\n",
        "-rw-r--r--  1 juliohernandez  staff   942481 Nov  8 16:14 fotoPruebaLorena.jpg\r\n",
        "-rw-------  1 juliohernandez  staff     6100 Nov  8 16:14 Ejercicio.ipynb\r\n",
        "-rw-r--r--  1 juliohernandez  staff   942481 Nov  8 16:13 fotoPruebaManuel.jpg\r\n",
        "-rw-r--r--  1 juliohernandez  staff   180478 Nov  8 16:11 fotoPrueba3.jpg\r\n",
        "-rw-r--r--  1 juliohernandez  staff  1116355 Nov  8 16:09 fotoPrueba2.jpg\r\n",
        "-rw-r--r--@ 1 juliohernandez  staff   175217 Nov  8 15:39 fotoPrueba,jpg\r\n",
        "-rw-r--r--  1 juliohernandez  staff    10169 Nov  1 11:38 01_Adquiriendo_Datos_imagenes.ipynb\r\n",
        "-rw-r--r--  1 juliohernandez  staff    21003 Nov  1 11:38 02_Distribuyendo_Datos_imagenes.ipynb\r\n",
        "-rw-r--r--  1 juliohernandez  staff  1467947 Nov  1 11:38 03_Procesando_Datos_imagenes.ipynb\r\n",
        "-rw-r--r--  1 juliohernandez  staff   259218 Nov  1 11:38 04_Adquiriendo_Datos_GPS.ipynb\r\n",
        "-rw-r--r--  1 juliohernandez  staff    98157 Nov  1 11:38 05_Adquiriendo_Datos_Accel-Copy0.ipynb\r\n",
        "-rw-r--r--  1 juliohernandez  staff    59153 Nov  1 11:38 05_Adquiriendo_Datos_Accel.ipynb\r",
        "\r\n"
       ]
      }
     ],
     "prompt_number": 44
    },
    {
     "cell_type": "code",
     "collapsed": false,
     "input": [],
     "language": "python",
     "metadata": {},
     "outputs": [],
     "prompt_number": 37
    }
   ],
   "metadata": {}
  }
 ]
}