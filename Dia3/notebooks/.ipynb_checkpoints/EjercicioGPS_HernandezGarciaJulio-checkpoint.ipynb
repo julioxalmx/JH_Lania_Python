{
 "metadata": {
  "name": "",
  "signature": "sha256:c71cb2860ea6841d0301699d265554921f997370234a716b4cfd627f3ea58b4e"
 },
 "nbformat": 3,
 "nbformat_minor": 0,
 "worksheets": [
  {
   "cells": [
    {
     "cell_type": "code",
     "collapsed": false,
     "input": [
      "%run ../talktools.py"
     ],
     "language": "python",
     "metadata": {},
     "outputs": [
      {
       "html": [
        "<link href='http://fonts.googleapis.com/css?family=Alegreya+Sans:100,300,400,500,700,800,900,100italic,300italic,400italic,500italic,700italic,800italic,900italic' rel='stylesheet' type='text/css'>\n",
        "<link href='http://fonts.googleapis.com/css?family=Arvo:400,700,400italic' rel='stylesheet' type='text/css'>\n",
        "<link href='http://fonts.googleapis.com/css?family=PT+Mono' rel='stylesheet' type='text/css'>\n",
        "<link href='http://fonts.googleapis.com/css?family=Shadows+Into+Light' rel='stylesheet' type='text/css'>\n",
        "<link href='http://fonts.googleapis.com/css?family=Nixie+One' rel='stylesheet' type='text/css'>\n",
        "<style>\n",
        "\n",
        "@font-face {\n",
        "    font-family: \"Computer Modern\";\n",
        "    src: url('http://mirrors.ctan.org/fonts/cm-unicode/fonts/otf/cmunss.otf');\n",
        "}\n",
        "\n",
        "#notebook_panel { /* main background */\n",
        "    background: rgb(245,245,245);\n",
        "}\n",
        "\n",
        "div.cell { /* set cell width */\n",
        "    width: 750px;\n",
        "}\n",
        "\n",
        "div #notebook { /* centre the content */\n",
        "    background: #fff; /* white background for content */\n",
        "    width: 1000px;\n",
        "    margin: auto;\n",
        "    padding-left: 0em;\n",
        "}\n",
        "\n",
        "#notebook li { /* More space between bullet points */\n",
        "margin-top:0.8em;\n",
        "}\n",
        "\n",
        "/* draw border around running cells */\n",
        "div.cell.border-box-sizing.code_cell.running { \n",
        "    border: 1px solid #111;\n",
        "}\n",
        "\n",
        "/* Put a solid color box around each cell and its output, visually linking them*/\n",
        "div.cell.code_cell {\n",
        "    background-color: rgb(256,256,256); \n",
        "    border-radius: 0px; \n",
        "    padding: 0.5em;\n",
        "    margin-left:1em;\n",
        "    margin-top: 1em;\n",
        "}\n",
        "\n",
        "div.text_cell_render{\n",
        "    font-family: 'Alegreya Sans' sans-serif;\n",
        "    line-height: 140%;\n",
        "    font-size: 125%;\n",
        "    font-weight: 400;\n",
        "    width:600px;\n",
        "    margin-left:auto;\n",
        "    margin-right:auto;\n",
        "}\n",
        "\n",
        "\n",
        "/* Formatting for header cells */\n",
        ".text_cell_render h1 {\n",
        "    font-family: 'Nixie One', serif;\n",
        "    font-style:regular;\n",
        "    font-weight: 400;    \n",
        "    font-size: 45pt;\n",
        "    line-height: 100%;\n",
        "    color: rgb(0,51,102);\n",
        "    margin-bottom: 0.5em;\n",
        "    margin-top: 0.5em;\n",
        "    display: block;\n",
        "}\t\n",
        ".text_cell_render h2 {\n",
        "    font-family: 'Nixie One', serif;\n",
        "    font-weight: 400;\n",
        "    font-size: 30pt;\n",
        "    line-height: 100%;\n",
        "    color: rgb(0,51,102);\n",
        "    margin-bottom: 0.1em;\n",
        "    margin-top: 0.3em;\n",
        "    display: block;\n",
        "}\t\n",
        "\n",
        ".text_cell_render h3 {\n",
        "    font-family: 'Nixie One', serif;\n",
        "    margin-top:16px;\n",
        "\tfont-size: 22pt;\n",
        "    font-weight: 600;\n",
        "    margin-bottom: 3px;\n",
        "    font-style: regular;\n",
        "    color: rgb(102,102,0);\n",
        "}\n",
        "\n",
        ".text_cell_render h4 {    /*Use this for captions*/\n",
        "    font-family: 'Nixie One', serif;\n",
        "    font-size: 14pt;\n",
        "    text-align: center;\n",
        "    margin-top: 0em;\n",
        "    margin-bottom: 2em;\n",
        "    font-style: regular;\n",
        "}\n",
        "\n",
        ".text_cell_render h5 {  /*Use this for small titles*/\n",
        "    font-family: 'Nixie One', sans-serif;\n",
        "    font-weight: 400;\n",
        "    font-size: 16pt;\n",
        "    color: rgb(163,0,0);\n",
        "    font-style: italic;\n",
        "    margin-bottom: .1em;\n",
        "    margin-top: 0.8em;\n",
        "    display: block;\n",
        "}\n",
        "\n",
        ".text_cell_render h6 { /*use this for copyright note*/\n",
        "    font-family: 'PT Mono', sans-serif;\n",
        "    font-weight: 300;\n",
        "    font-size: 9pt;\n",
        "    line-height: 100%;\n",
        "    color: grey;\n",
        "    margin-bottom: 1px;\n",
        "    margin-top: 1px;\n",
        "}\n",
        "\n",
        ".CodeMirror{\n",
        "        font-family: \"PT Mono\";\n",
        "        font-size: 90%;\n",
        "}\n",
        "\n",
        "</style>\n",
        "<script>\n",
        "    MathJax.Hub.Config({\n",
        "                        TeX: {\n",
        "                           extensions: [\"AMSmath.js\"],\n",
        "                           equationNumbers: { autoNumber: \"AMS\", useLabelIds: true}\n",
        "                           },\n",
        "                tex2jax: {\n",
        "                    inlineMath: [ ['$','$'], [\"\\\\(\",\"\\\\)\"] ],\n",
        "                    displayMath: [ ['$$','$$'], [\"\\\\[\",\"\\\\]\"] ]\n",
        "                },\n",
        "                displayAlign: 'center', // Change this to 'center' to center equations.\n",
        "                \"HTML-CSS\": {\n",
        "                    styles: {'.MathJax_Display': {\"margin\": 4}}\n",
        "                }\n",
        "        });\n",
        "</script>"
       ],
       "metadata": {},
       "output_type": "display_data",
       "text": [
        "<IPython.core.display.HTML at 0x10878f710>"
       ]
      }
     ],
     "prompt_number": 11
    },
    {
     "cell_type": "code",
     "collapsed": false,
     "input": [
      "import pandas as pd\n",
      "file_name = '/Users/juliohernandez/Documents/lania.ipython/Dia3/files/Dia03_Sensor_JH.csv'\n",
      "sensorData = pd.read_csv(file_name,sep=\";\",header=1)\n",
      "sensorData[:3]"
     ],
     "language": "python",
     "metadata": {},
     "outputs": [
      {
       "html": [
        "<div style=\"max-height:1000px;max-width:1500px;overflow:auto;\">\n",
        "<table border=\"1\" class=\"dataframe\">\n",
        "  <thead>\n",
        "    <tr style=\"text-align: right;\">\n",
        "      <th></th>\n",
        "      <th>ACCELEROMETER X (m/s\u00b2)</th>\n",
        "      <th>ACCELEROMETER Y (m/s\u00b2)</th>\n",
        "      <th>ACCELEROMETER Z (m/s\u00b2)</th>\n",
        "      <th>GRAVITY X (m/s\u00b2)</th>\n",
        "      <th>GRAVITY Y (m/s\u00b2)</th>\n",
        "      <th>GRAVITY Z (m/s\u00b2)</th>\n",
        "      <th>LINEAR ACCELERATION X (m/s\u00b2)</th>\n",
        "      <th>LINEAR ACCELERATION Y (m/s\u00b2)</th>\n",
        "      <th>LINEAR ACCELERATION Z (m/s\u00b2)</th>\n",
        "      <th>GYROSCOPE X (rad/s)</th>\n",
        "      <th>...</th>\n",
        "      <th>LOCATION Longitude : </th>\n",
        "      <th>LOCATION Altitude ( m)</th>\n",
        "      <th>LOCATION Speed ( Kmh)</th>\n",
        "      <th>LOCATION Accuracy ( m)</th>\n",
        "      <th>Satellites in range</th>\n",
        "      <th>Temperature (F)</th>\n",
        "      <th>Level (%)</th>\n",
        "      <th>Voltage (Volt)</th>\n",
        "      <th>Time since start in ms </th>\n",
        "      <th>YYYY-MO-DD HH-MI-SS_SSS</th>\n",
        "    </tr>\n",
        "  </thead>\n",
        "  <tbody>\n",
        "    <tr>\n",
        "      <th>0</th>\n",
        "      <td> 0.2861</td>\n",
        "      <td> 3.5961</td>\n",
        "      <td> 9.2680</td>\n",
        "      <td> 0.1670</td>\n",
        "      <td> 3.5694</td>\n",
        "      <td> 9.1325</td>\n",
        "      <td> 0.1191</td>\n",
        "      <td> 0.0267</td>\n",
        "      <td> 0.1355</td>\n",
        "      <td>-0.1381</td>\n",
        "      <td>...</td>\n",
        "      <td>-96.915560</td>\n",
        "      <td> 4323.87</td>\n",
        "      <td> 6.52</td>\n",
        "      <td> 80.64516</td>\n",
        "      <td> 5 / 5</td>\n",
        "      <td> 91</td>\n",
        "      <td> 72</td>\n",
        "      <td> 3.867</td>\n",
        "      <td>   81</td>\n",
        "      <td> 2014-11-08 13:37:33:403</td>\n",
        "    </tr>\n",
        "    <tr>\n",
        "      <th>1</th>\n",
        "      <td>-0.2167</td>\n",
        "      <td> 3.3555</td>\n",
        "      <td> 9.3338</td>\n",
        "      <td>-0.1577</td>\n",
        "      <td> 3.3857</td>\n",
        "      <td> 9.2023</td>\n",
        "      <td>-0.0590</td>\n",
        "      <td>-0.0302</td>\n",
        "      <td> 0.1315</td>\n",
        "      <td>-0.0122</td>\n",
        "      <td>...</td>\n",
        "      <td>-96.915565</td>\n",
        "      <td> 4324.19</td>\n",
        "      <td> 0.45</td>\n",
        "      <td> 80.64516</td>\n",
        "      <td> 4 / 5</td>\n",
        "      <td> 91</td>\n",
        "      <td> 72</td>\n",
        "      <td> 3.867</td>\n",
        "      <td>  670</td>\n",
        "      <td> 2014-11-08 13:37:33:992</td>\n",
        "    </tr>\n",
        "    <tr>\n",
        "      <th>2</th>\n",
        "      <td>-0.5578</td>\n",
        "      <td> 3.9229</td>\n",
        "      <td> 8.9064</td>\n",
        "      <td> 0.0448</td>\n",
        "      <td> 3.9935</td>\n",
        "      <td> 8.9566</td>\n",
        "      <td>-0.0220</td>\n",
        "      <td>-0.6560</td>\n",
        "      <td>-0.3207</td>\n",
        "      <td> 0.0507</td>\n",
        "      <td>...</td>\n",
        "      <td>-96.915565</td>\n",
        "      <td> 4324.19</td>\n",
        "      <td> 0.45</td>\n",
        "      <td> 80.64516</td>\n",
        "      <td> 4 / 5</td>\n",
        "      <td> 91</td>\n",
        "      <td> 72</td>\n",
        "      <td> 3.867</td>\n",
        "      <td> 1215</td>\n",
        "      <td> 2014-11-08 13:37:34:537</td>\n",
        "    </tr>\n",
        "  </tbody>\n",
        "</table>\n",
        "<p>3 rows \u00d7 31 columns</p>\n",
        "</div>"
       ],
       "metadata": {},
       "output_type": "pyout",
       "prompt_number": 2,
       "text": [
        "   ACCELEROMETER X (m/s\u00b2)  ACCELEROMETER Y (m/s\u00b2)  ACCELEROMETER Z (m/s\u00b2)  \\\n",
        "0                  0.2861                  3.5961                  9.2680   \n",
        "1                 -0.2167                  3.3555                  9.3338   \n",
        "2                 -0.5578                  3.9229                  8.9064   \n",
        "\n",
        "   GRAVITY X (m/s\u00b2)  GRAVITY Y (m/s\u00b2)  GRAVITY Z (m/s\u00b2)  \\\n",
        "0            0.1670            3.5694            9.1325   \n",
        "1           -0.1577            3.3857            9.2023   \n",
        "2            0.0448            3.9935            8.9566   \n",
        "\n",
        "   LINEAR ACCELERATION X (m/s\u00b2)  LINEAR ACCELERATION Y (m/s\u00b2)  \\\n",
        "0                        0.1191                        0.0267   \n",
        "1                       -0.0590                       -0.0302   \n",
        "2                       -0.0220                       -0.6560   \n",
        "\n",
        "   LINEAR ACCELERATION Z (m/s\u00b2)  GYROSCOPE X (rad/s)         ...           \\\n",
        "0                        0.1355              -0.1381         ...            \n",
        "1                        0.1315              -0.0122         ...            \n",
        "2                       -0.3207               0.0507         ...            \n",
        "\n",
        "   LOCATION Longitude :   LOCATION Altitude ( m)  LOCATION Speed ( Kmh)  \\\n",
        "0             -96.915560                 4323.87                   6.52   \n",
        "1             -96.915565                 4324.19                   0.45   \n",
        "2             -96.915565                 4324.19                   0.45   \n",
        "\n",
        "   LOCATION Accuracy ( m)  Satellites in range  Temperature (F)  Level (%)  \\\n",
        "0                80.64516                5 / 5               91         72   \n",
        "1                80.64516                4 / 5               91         72   \n",
        "2                80.64516                4 / 5               91         72   \n",
        "\n",
        "   Voltage (Volt)  Time since start in ms   YYYY-MO-DD HH-MI-SS_SSS  \n",
        "0           3.867                       81  2014-11-08 13:37:33:403  \n",
        "1           3.867                      670  2014-11-08 13:37:33:992  \n",
        "2           3.867                     1215  2014-11-08 13:37:34:537  \n",
        "\n",
        "[3 rows x 31 columns]"
       ]
      }
     ],
     "prompt_number": 2
    },
    {
     "cell_type": "code",
     "collapsed": false,
     "input": [
      "geodatos = sensorData.iloc[:,20:22]"
     ],
     "language": "python",
     "metadata": {},
     "outputs": [],
     "prompt_number": 3
    },
    {
     "cell_type": "code",
     "collapsed": false,
     "input": [
      "sensorData['ACCELEROMETER X (m/s\u00b2)']"
     ],
     "language": "python",
     "metadata": {},
     "outputs": [
      {
       "metadata": {},
       "output_type": "pyout",
       "prompt_number": 19,
       "text": [
        "0     0.2861\n",
        "1    -0.2167\n",
        "2    -0.5578\n",
        "3    -0.8212\n",
        "4    -0.3005\n",
        "5    -0.1580\n",
        "6    -0.9421\n",
        "7    -2.8934\n",
        "8    -0.9732\n",
        "9     3.8343\n",
        "10    1.4365\n",
        "11    0.3124\n",
        "12   -0.8320\n",
        "13   -0.3232\n",
        "14   -1.0475\n",
        "15   -0.5028\n",
        "16   -0.6165\n",
        "17   -2.3188\n",
        "18   -0.3699\n",
        "19    0.2286\n",
        "20    1.3324\n",
        "Name: ACCELEROMETER X (m/s\u00b2), dtype: float64"
       ]
      }
     ],
     "prompt_number": 19
    },
    {
     "cell_type": "code",
     "collapsed": false,
     "input": [
      "%matplotlib inline\n",
      "geodatos.plot()"
     ],
     "language": "python",
     "metadata": {},
     "outputs": [
      {
       "metadata": {},
       "output_type": "pyout",
       "prompt_number": 10,
       "text": [
        "<matplotlib.axes._subplots.AxesSubplot at 0x108777650>"
       ]
      },
      {
       "metadata": {},
       "output_type": "display_data",
       "png": "[encoded data removed]",
       "text": [
        "<matplotlib.figure.Figure at 0x108752b90>"
       ]
      }
     ],
     "prompt_number": 10
    },
    {
     "cell_type": "code",
     "collapsed": false,
     "input": [
      "sensorData.plot(legend=False)"
     ],
     "language": "python",
     "metadata": {},
     "outputs": [
      {
       "metadata": {},
       "output_type": "pyout",
       "prompt_number": 35,
       "text": [
        "<matplotlib.axes._subplots.AxesSubplot at 0x10c327890>"
       ]
      },
      {
       "metadata": {},
       "output_type": "display_data",
       "png": "[encoded data removed]",
       "text": [
        "<matplotlib.figure.Figure at 0x10c3323d0>"
       ]
      }
     ],
     "prompt_number": 35
    },
    {
     "cell_type": "code",
     "collapsed": false,
     "input": [
      "geodatos.plot(x=0, y=1,kind='scatter')"
     ],
     "language": "python",
     "metadata": {},
     "outputs": [
      {
       "metadata": {},
       "output_type": "pyout",
       "prompt_number": 36,
       "text": [
        "<matplotlib.axes._subplots.AxesSubplot at 0x10c761ad0>"
       ]
      },
      {
       "metadata": {},
       "output_type": "display_data",
       "png": "[encoded data removed]",
       "text": [
        "<matplotlib.figure.Figure at 0x10c332c10>"
       ]
      }
     ],
     "prompt_number": 36
    },
    {
     "cell_type": "code",
     "collapsed": false,
     "input": [
      "geodatos.keys()"
     ],
     "language": "python",
     "metadata": {},
     "outputs": [
      {
       "metadata": {},
       "output_type": "pyout",
       "prompt_number": 37,
       "text": [
        "Index([u'LOCATION Latitude : ', u'LOCATION Longitude : '], dtype='object')"
       ]
      }
     ],
     "prompt_number": 37
    },
    {
     "cell_type": "code",
     "collapsed": false,
     "input": [
      "!conda install basemap"
     ],
     "language": "python",
     "metadata": {},
     "outputs": [
      {
       "output_type": "stream",
       "stream": "stdout",
       "text": [
        "Fetching package metadata: "
       ]
      },
      {
       "output_type": "stream",
       "stream": "stdout",
       "text": [
        "."
       ]
      },
      {
       "output_type": "stream",
       "stream": "stdout",
       "text": [
        ".\r\n"
       ]
      },
      {
       "output_type": "stream",
       "stream": "stdout",
       "text": [
        "Solving package specifications: ."
       ]
      },
      {
       "output_type": "stream",
       "stream": "stdout",
       "text": [
        ".."
       ]
      },
      {
       "output_type": "stream",
       "stream": "stdout",
       "text": [
        "."
       ]
      },
      {
       "output_type": "stream",
       "stream": "stdout",
       "text": [
        "."
       ]
      },
      {
       "output_type": "stream",
       "stream": "stdout",
       "text": [
        "."
       ]
      },
      {
       "output_type": "stream",
       "stream": "stdout",
       "text": [
        "."
       ]
      },
      {
       "output_type": "stream",
       "stream": "stdout",
       "text": [
        "."
       ]
      },
      {
       "output_type": "stream",
       "stream": "stdout",
       "text": [
        "."
       ]
      },
      {
       "output_type": "stream",
       "stream": "stdout",
       "text": [
        ".."
       ]
      },
      {
       "output_type": "stream",
       "stream": "stdout",
       "text": [
        ".."
       ]
      },
      {
       "output_type": "stream",
       "stream": "stdout",
       "text": [
        "."
       ]
      },
      {
       "output_type": "stream",
       "stream": "stdout",
       "text": [
        "."
       ]
      },
      {
       "output_type": "stream",
       "stream": "stdout",
       "text": [
        "\r\n",
        "Package plan for installation in environment /Users/juliohernandez/anaconda:\r\n",
        "\r\n",
        "The following packages will be downloaded:\r\n",
        "\r\n",
        "    package                    |            build\r\n",
        "    ---------------------------|-----------------\r\n",
        "    basemap-1.0.7              |       np19py27_0       118.5 MB\r\n",
        "    geos-3.3.3                 |                0         2.4 MB\r\n",
        "    numpy-1.9.1                |           py27_0         2.9 MB\r\n",
        "    pytz-2014.9                |           py27_0         175 KB\r\n",
        "    ------------------------------------------------------------\r\n",
        "                                           Total:       123.9 MB\r\n",
        "\r\n",
        "The following NEW packages will be INSTALLED:\r\n",
        "\r\n",
        "    basemap: 1.0.7-np19py27_0\r\n",
        "    geos:    3.3.3-0         \r\n",
        "\r\n",
        "The following packages will be UPDATED:\r\n",
        "\r\n",
        "    numpy:   1.9.0-py27_0  --> 1.9.1-py27_0    \r\n",
        "    pytz:    2014.7-py27_0 --> 2014.9-py27_0   \r\n",
        "\r\n",
        "Proceed ([y]/n)? "
       ]
      },
      {
       "output_type": "stream",
       "stream": "stdout",
       "text": [
        "^C\r\n",
        "Operation aborted.  Exiting.\r\n",
        "\r\n"
       ]
      }
     ],
     "prompt_number": 39
    },
    {
     "cell_type": "code",
     "collapsed": false,
     "input": [
      "from mpl_toolkits.basemap import Basemap\n",
      "from datetime import datetime"
     ],
     "language": "python",
     "metadata": {},
     "outputs": [],
     "prompt_number": 7
    },
    {
     "cell_type": "code",
     "collapsed": false,
     "input": [
      "lats = geodatos.values[:,0]\n",
      "lons = geodatos.values[:,1]\n",
      "\n",
      "#timeStamp = sensorData['Timestamp']\n",
      "\n",
      "m = Basemap(projection='hammer',lon_0=-90)\n",
      "\n",
      "x ,y = m(lons,lats)\n",
      "\n",
      "m.drawmapboundary(fill_color='#99ffff')\n",
      "m.fillcontinents(color='#000000',lake_color='#ff0000')\n",
      "m.scatter(x,y,24,marker='o',color='k')\n",
      "plt.text(x[-1],y[-1],'JH',color='b');"
     ],
     "language": "python",
     "metadata": {},
     "outputs": [
      {
       "metadata": {},
       "output_type": "display_data",
       "png": "[encoded data removed]",
       "text": [
        "<matplotlib.figure.Figure at 0x10886f450>"
       ]
      }
     ],
     "prompt_number": 15
    },
    {
     "cell_type": "code",
     "collapsed": false,
     "input": [],
     "language": "python",
     "metadata": {},
     "outputs": []
    }
   ],
   "metadata": {}
  }
 ]
}